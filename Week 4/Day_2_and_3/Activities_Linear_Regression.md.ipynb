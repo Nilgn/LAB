{
 "cells": [
  {
   "cell_type": "markdown",
   "id": "389d049f",
   "metadata": {},
   "source": [
    "   ## Spliting target variable (x)and predictor variable (y)"
   ]
  },
  {
   "cell_type": "code",
   "execution_count": 16,
   "id": "4e85945a",
   "metadata": {},
   "outputs": [],
   "source": [
    "import numpy as np\n",
    "import pandas as pd\n",
    "import matplotlib.pyplot as plt\n",
    "%matplotlib inline\n",
    "import seaborn as sns\n",
    "from sklearn.preprocessing import PowerTransformer\n",
    "from sklearn.compose import ColumnTransformer\n",
    "from sklearn.linear_model import LinearRegression\n",
    "from sklearn.model_selection import train_test_split\n",
    "\n",
    "import statsmodels.api as sm\n",
    "from sklearn.metrics import r2_score\n",
    "from sklearn.metrics import mean_squared_error as mse\n",
    "from sklearn.metrics import mean_absolute_error as mae"
   ]
  },
  {
   "cell_type": "code",
   "execution_count": 7,
   "id": "a703872b",
   "metadata": {},
   "outputs": [],
   "source": [
    "\n",
    "marketing_df = pd.read_csv('Data_Marketing_Customer_Analysis_Round3.csv')\n"
   ]
  },
  {
   "cell_type": "code",
   "execution_count": 8,
   "id": "5a49ed87",
   "metadata": {},
   "outputs": [
    {
     "data": {
      "text/html": [
       "<div>\n",
       "<style scoped>\n",
       "    .dataframe tbody tr th:only-of-type {\n",
       "        vertical-align: middle;\n",
       "    }\n",
       "\n",
       "    .dataframe tbody tr th {\n",
       "        vertical-align: top;\n",
       "    }\n",
       "\n",
       "    .dataframe thead th {\n",
       "        text-align: right;\n",
       "    }\n",
       "</style>\n",
       "<table border=\"1\" class=\"dataframe\">\n",
       "  <thead>\n",
       "    <tr style=\"text-align: right;\">\n",
       "      <th></th>\n",
       "      <th>customer_lifetime_value</th>\n",
       "      <th>income</th>\n",
       "      <th>monthly_premium_auto</th>\n",
       "      <th>months_since_last_claim</th>\n",
       "      <th>months_since_policy_inception</th>\n",
       "      <th>number_of_open_complaints</th>\n",
       "      <th>number_of_policies</th>\n",
       "    </tr>\n",
       "  </thead>\n",
       "  <tbody>\n",
       "    <tr>\n",
       "      <th>0</th>\n",
       "      <td>4809</td>\n",
       "      <td>48029</td>\n",
       "      <td>61</td>\n",
       "      <td>7</td>\n",
       "      <td>52</td>\n",
       "      <td>0</td>\n",
       "      <td>9</td>\n",
       "    </tr>\n",
       "    <tr>\n",
       "      <th>1</th>\n",
       "      <td>2228</td>\n",
       "      <td>92260</td>\n",
       "      <td>64</td>\n",
       "      <td>3</td>\n",
       "      <td>26</td>\n",
       "      <td>0</td>\n",
       "      <td>1</td>\n",
       "    </tr>\n",
       "    <tr>\n",
       "      <th>2</th>\n",
       "      <td>14947</td>\n",
       "      <td>22139</td>\n",
       "      <td>100</td>\n",
       "      <td>34</td>\n",
       "      <td>31</td>\n",
       "      <td>0</td>\n",
       "      <td>2</td>\n",
       "    </tr>\n",
       "    <tr>\n",
       "      <th>3</th>\n",
       "      <td>22332</td>\n",
       "      <td>49078</td>\n",
       "      <td>97</td>\n",
       "      <td>10</td>\n",
       "      <td>3</td>\n",
       "      <td>0</td>\n",
       "      <td>2</td>\n",
       "    </tr>\n",
       "    <tr>\n",
       "      <th>4</th>\n",
       "      <td>9025</td>\n",
       "      <td>23675</td>\n",
       "      <td>117</td>\n",
       "      <td>33</td>\n",
       "      <td>31</td>\n",
       "      <td>0</td>\n",
       "      <td>7</td>\n",
       "    </tr>\n",
       "    <tr>\n",
       "      <th>...</th>\n",
       "      <td>...</td>\n",
       "      <td>...</td>\n",
       "      <td>...</td>\n",
       "      <td>...</td>\n",
       "      <td>...</td>\n",
       "      <td>...</td>\n",
       "      <td>...</td>\n",
       "    </tr>\n",
       "    <tr>\n",
       "      <th>10684</th>\n",
       "      <td>15563</td>\n",
       "      <td>61541</td>\n",
       "      <td>253</td>\n",
       "      <td>12</td>\n",
       "      <td>40</td>\n",
       "      <td>0</td>\n",
       "      <td>7</td>\n",
       "    </tr>\n",
       "    <tr>\n",
       "      <th>10685</th>\n",
       "      <td>5259</td>\n",
       "      <td>61146</td>\n",
       "      <td>65</td>\n",
       "      <td>7</td>\n",
       "      <td>68</td>\n",
       "      <td>0</td>\n",
       "      <td>6</td>\n",
       "    </tr>\n",
       "    <tr>\n",
       "      <th>10686</th>\n",
       "      <td>23893</td>\n",
       "      <td>39837</td>\n",
       "      <td>201</td>\n",
       "      <td>11</td>\n",
       "      <td>63</td>\n",
       "      <td>0</td>\n",
       "      <td>2</td>\n",
       "    </tr>\n",
       "    <tr>\n",
       "      <th>10687</th>\n",
       "      <td>11971</td>\n",
       "      <td>64195</td>\n",
       "      <td>158</td>\n",
       "      <td>0</td>\n",
       "      <td>27</td>\n",
       "      <td>4</td>\n",
       "      <td>6</td>\n",
       "    </tr>\n",
       "    <tr>\n",
       "      <th>10688</th>\n",
       "      <td>6857</td>\n",
       "      <td>68942</td>\n",
       "      <td>101</td>\n",
       "      <td>31</td>\n",
       "      <td>1</td>\n",
       "      <td>0</td>\n",
       "      <td>3</td>\n",
       "    </tr>\n",
       "  </tbody>\n",
       "</table>\n",
       "<p>10689 rows × 7 columns</p>\n",
       "</div>"
      ],
      "text/plain": [
       "       customer_lifetime_value  income  monthly_premium_auto  \\\n",
       "0                         4809   48029                    61   \n",
       "1                         2228   92260                    64   \n",
       "2                        14947   22139                   100   \n",
       "3                        22332   49078                    97   \n",
       "4                         9025   23675                   117   \n",
       "...                        ...     ...                   ...   \n",
       "10684                    15563   61541                   253   \n",
       "10685                     5259   61146                    65   \n",
       "10686                    23893   39837                   201   \n",
       "10687                    11971   64195                   158   \n",
       "10688                     6857   68942                   101   \n",
       "\n",
       "       months_since_last_claim  months_since_policy_inception  \\\n",
       "0                            7                             52   \n",
       "1                            3                             26   \n",
       "2                           34                             31   \n",
       "3                           10                              3   \n",
       "4                           33                             31   \n",
       "...                        ...                            ...   \n",
       "10684                       12                             40   \n",
       "10685                        7                             68   \n",
       "10686                       11                             63   \n",
       "10687                        0                             27   \n",
       "10688                       31                              1   \n",
       "\n",
       "       number_of_open_complaints  number_of_policies  \n",
       "0                              0                   9  \n",
       "1                              0                   1  \n",
       "2                              0                   2  \n",
       "3                              0                   2  \n",
       "4                              0                   7  \n",
       "...                          ...                 ...  \n",
       "10684                          0                   7  \n",
       "10685                          0                   6  \n",
       "10686                          0                   2  \n",
       "10687                          4                   6  \n",
       "10688                          0                   3  \n",
       "\n",
       "[10689 rows x 7 columns]"
      ]
     },
     "execution_count": 8,
     "metadata": {},
     "output_type": "execute_result"
    }
   ],
   "source": [
    "X = marketing_df.select_dtypes(np.number)\n",
    "y = marketing_df.total_claim_amount\n",
    "X.drop('total_claim_amount', axis = 1)"
   ]
  },
  {
   "cell_type": "markdown",
   "id": "3b791afc",
   "metadata": {},
   "source": [
    "### Splitting Training Set and Testing Set"
   ]
  },
  {
   "cell_type": "code",
   "execution_count": 10,
   "id": "5710a5aa",
   "metadata": {},
   "outputs": [],
   "source": [
    "RAND_STATE = 34 # for reproducible shuffling\n",
    "TT_RATIO = 0.3 # test/train"
   ]
  },
  {
   "cell_type": "code",
   "execution_count": 13,
   "id": "e577c0a3",
   "metadata": {},
   "outputs": [
    {
     "data": {
      "text/html": [
       "<div>\n",
       "<style scoped>\n",
       "    .dataframe tbody tr th:only-of-type {\n",
       "        vertical-align: middle;\n",
       "    }\n",
       "\n",
       "    .dataframe tbody tr th {\n",
       "        vertical-align: top;\n",
       "    }\n",
       "\n",
       "    .dataframe thead th {\n",
       "        text-align: right;\n",
       "    }\n",
       "</style>\n",
       "<table border=\"1\" class=\"dataframe\">\n",
       "  <thead>\n",
       "    <tr style=\"text-align: right;\">\n",
       "      <th></th>\n",
       "      <th>customer_lifetime_value</th>\n",
       "      <th>income</th>\n",
       "      <th>monthly_premium_auto</th>\n",
       "      <th>months_since_last_claim</th>\n",
       "      <th>months_since_policy_inception</th>\n",
       "      <th>number_of_open_complaints</th>\n",
       "      <th>number_of_policies</th>\n",
       "      <th>total_claim_amount</th>\n",
       "    </tr>\n",
       "  </thead>\n",
       "  <tbody>\n",
       "    <tr>\n",
       "      <th>2705</th>\n",
       "      <td>4786</td>\n",
       "      <td>45515</td>\n",
       "      <td>61</td>\n",
       "      <td>10</td>\n",
       "      <td>33</td>\n",
       "      <td>0</td>\n",
       "      <td>9</td>\n",
       "      <td>236</td>\n",
       "    </tr>\n",
       "    <tr>\n",
       "      <th>2209</th>\n",
       "      <td>22445</td>\n",
       "      <td>80340</td>\n",
       "      <td>71</td>\n",
       "      <td>32</td>\n",
       "      <td>35</td>\n",
       "      <td>0</td>\n",
       "      <td>2</td>\n",
       "      <td>511</td>\n",
       "    </tr>\n",
       "    <tr>\n",
       "      <th>4004</th>\n",
       "      <td>6412</td>\n",
       "      <td>58776</td>\n",
       "      <td>83</td>\n",
       "      <td>20</td>\n",
       "      <td>50</td>\n",
       "      <td>2</td>\n",
       "      <td>4</td>\n",
       "      <td>478</td>\n",
       "    </tr>\n",
       "  </tbody>\n",
       "</table>\n",
       "</div>"
      ],
      "text/plain": [
       "      customer_lifetime_value  income  monthly_premium_auto  \\\n",
       "2705                     4786   45515                    61   \n",
       "2209                    22445   80340                    71   \n",
       "4004                     6412   58776                    83   \n",
       "\n",
       "      months_since_last_claim  months_since_policy_inception  \\\n",
       "2705                       10                             33   \n",
       "2209                       32                             35   \n",
       "4004                       20                             50   \n",
       "\n",
       "      number_of_open_complaints  number_of_policies  total_claim_amount  \n",
       "2705                          0                   9                 236  \n",
       "2209                          0                   2                 511  \n",
       "4004                          2                   4                 478  "
      ]
     },
     "execution_count": 13,
     "metadata": {},
     "output_type": "execute_result"
    }
   ],
   "source": [
    "X_train, X_test, y_train, y_test = train_test_split(X, y, test_size=TT_RATIO, random_state=RAND_STATE)\n",
    "X_train = pd.DataFrame(X_train)\n",
    "X_test = pd.DataFrame(X_test)\n",
    "X_train.head(3)"
   ]
  },
  {
   "cell_type": "markdown",
   "id": "a80786db",
   "metadata": {},
   "source": [
    "### Standardizing Data"
   ]
  },
  {
   "cell_type": "code",
   "execution_count": 18,
   "id": "3dfbf820",
   "metadata": {},
   "outputs": [
    {
     "name": "stdout",
     "output_type": "stream",
     "text": [
      "[ColumnTransformer] ............ (1 of 1) Processing pt, total=   0.1s\n"
     ]
    }
   ],
   "source": [
    "from sklearn.preprocessing import StandardScaler\n",
    "pt = PowerTransformer()\n",
    "scaler = StandardScaler ()\n",
    "\n",
    "ct = ColumnTransformer([(\"pt\", pt, list(X.columns))],\n",
    "                        remainder='drop',verbose_feature_names_out=True,verbose=True).fit(X_train)\n",
    "X_train_ct = pd.DataFrame(ct.transform(X_train),columns=ct.get_feature_names_out())\n",
    "X_test_ct = pd.DataFrame(ct.transform(X_test),columns=ct.get_feature_names_out())"
   ]
  },
  {
   "cell_type": "code",
   "execution_count": 19,
   "id": "33491439",
   "metadata": {},
   "outputs": [
    {
     "data": {
      "text/html": [
       "<div>\n",
       "<style scoped>\n",
       "    .dataframe tbody tr th:only-of-type {\n",
       "        vertical-align: middle;\n",
       "    }\n",
       "\n",
       "    .dataframe tbody tr th {\n",
       "        vertical-align: top;\n",
       "    }\n",
       "\n",
       "    .dataframe thead th {\n",
       "        text-align: right;\n",
       "    }\n",
       "</style>\n",
       "<table border=\"1\" class=\"dataframe\">\n",
       "  <thead>\n",
       "    <tr style=\"text-align: right;\">\n",
       "      <th></th>\n",
       "      <th>pt__customer_lifetime_value</th>\n",
       "      <th>pt__income</th>\n",
       "      <th>pt__monthly_premium_auto</th>\n",
       "      <th>pt__months_since_last_claim</th>\n",
       "      <th>pt__months_since_policy_inception</th>\n",
       "      <th>pt__number_of_open_complaints</th>\n",
       "      <th>pt__number_of_policies</th>\n",
       "      <th>pt__total_claim_amount</th>\n",
       "    </tr>\n",
       "  </thead>\n",
       "  <tbody>\n",
       "    <tr>\n",
       "      <th>0</th>\n",
       "      <td>-0.340765</td>\n",
       "      <td>-0.143033</td>\n",
       "      <td>-1.552039</td>\n",
       "      <td>-0.350352</td>\n",
       "      <td>-0.428756</td>\n",
       "      <td>-0.502522</td>\n",
       "      <td>1.660057</td>\n",
       "      <td>-0.613776</td>\n",
       "    </tr>\n",
       "    <tr>\n",
       "      <th>1</th>\n",
       "      <td>1.732220</td>\n",
       "      <td>1.108667</td>\n",
       "      <td>-0.712384</td>\n",
       "      <td>1.463437</td>\n",
       "      <td>-0.354308</td>\n",
       "      <td>-0.502522</td>\n",
       "      <td>-0.063268</td>\n",
       "      <td>0.426856</td>\n",
       "    </tr>\n",
       "    <tr>\n",
       "      <th>2</th>\n",
       "      <td>0.142838</td>\n",
       "      <td>0.372284</td>\n",
       "      <td>-0.020814</td>\n",
       "      <td>0.582646</td>\n",
       "      <td>0.170412</td>\n",
       "      <td>2.032405</td>\n",
       "      <td>0.875803</td>\n",
       "      <td>0.321145</td>\n",
       "    </tr>\n",
       "    <tr>\n",
       "      <th>3</th>\n",
       "      <td>-1.841641</td>\n",
       "      <td>-0.002560</td>\n",
       "      <td>-1.178270</td>\n",
       "      <td>-0.700972</td>\n",
       "      <td>1.525083</td>\n",
       "      <td>-0.502522</td>\n",
       "      <td>-1.143833</td>\n",
       "      <td>1.149743</td>\n",
       "    </tr>\n",
       "    <tr>\n",
       "      <th>4</th>\n",
       "      <td>0.367618</td>\n",
       "      <td>-0.900458</td>\n",
       "      <td>0.496901</td>\n",
       "      <td>0.742711</td>\n",
       "      <td>0.302193</td>\n",
       "      <td>-0.502522</td>\n",
       "      <td>1.454127</td>\n",
       "      <td>0.228396</td>\n",
       "    </tr>\n",
       "    <tr>\n",
       "      <th>...</th>\n",
       "      <td>...</td>\n",
       "      <td>...</td>\n",
       "      <td>...</td>\n",
       "      <td>...</td>\n",
       "      <td>...</td>\n",
       "      <td>...</td>\n",
       "      <td>...</td>\n",
       "      <td>...</td>\n",
       "    </tr>\n",
       "    <tr>\n",
       "      <th>7477</th>\n",
       "      <td>0.199678</td>\n",
       "      <td>-0.194957</td>\n",
       "      <td>0.593059</td>\n",
       "      <td>0.240451</td>\n",
       "      <td>0.650895</td>\n",
       "      <td>2.032405</td>\n",
       "      <td>0.513168</td>\n",
       "      <td>1.004652</td>\n",
       "    </tr>\n",
       "    <tr>\n",
       "      <th>7478</th>\n",
       "      <td>0.928730</td>\n",
       "      <td>-0.082468</td>\n",
       "      <td>0.938141</td>\n",
       "      <td>0.971550</td>\n",
       "      <td>0.773350</td>\n",
       "      <td>-0.502522</td>\n",
       "      <td>-0.063268</td>\n",
       "      <td>1.245045</td>\n",
       "    </tr>\n",
       "    <tr>\n",
       "      <th>7479</th>\n",
       "      <td>-1.511516</td>\n",
       "      <td>1.656755</td>\n",
       "      <td>-1.178270</td>\n",
       "      <td>-0.040648</td>\n",
       "      <td>-0.428756</td>\n",
       "      <td>-0.502522</td>\n",
       "      <td>-1.143833</td>\n",
       "      <td>-2.011030</td>\n",
       "    </tr>\n",
       "    <tr>\n",
       "      <th>7480</th>\n",
       "      <td>-0.980688</td>\n",
       "      <td>-1.203165</td>\n",
       "      <td>0.200536</td>\n",
       "      <td>-0.461825</td>\n",
       "      <td>-1.644616</td>\n",
       "      <td>2.032405</td>\n",
       "      <td>-1.143833</td>\n",
       "      <td>0.132558</td>\n",
       "    </tr>\n",
       "    <tr>\n",
       "      <th>7481</th>\n",
       "      <td>0.557305</td>\n",
       "      <td>1.703047</td>\n",
       "      <td>1.004347</td>\n",
       "      <td>-0.040648</td>\n",
       "      <td>-0.067825</td>\n",
       "      <td>-0.502522</td>\n",
       "      <td>0.875803</td>\n",
       "      <td>0.553307</td>\n",
       "    </tr>\n",
       "  </tbody>\n",
       "</table>\n",
       "<p>7482 rows × 8 columns</p>\n",
       "</div>"
      ],
      "text/plain": [
       "      pt__customer_lifetime_value  pt__income  pt__monthly_premium_auto  \\\n",
       "0                       -0.340765   -0.143033                 -1.552039   \n",
       "1                        1.732220    1.108667                 -0.712384   \n",
       "2                        0.142838    0.372284                 -0.020814   \n",
       "3                       -1.841641   -0.002560                 -1.178270   \n",
       "4                        0.367618   -0.900458                  0.496901   \n",
       "...                           ...         ...                       ...   \n",
       "7477                     0.199678   -0.194957                  0.593059   \n",
       "7478                     0.928730   -0.082468                  0.938141   \n",
       "7479                    -1.511516    1.656755                 -1.178270   \n",
       "7480                    -0.980688   -1.203165                  0.200536   \n",
       "7481                     0.557305    1.703047                  1.004347   \n",
       "\n",
       "      pt__months_since_last_claim  pt__months_since_policy_inception  \\\n",
       "0                       -0.350352                          -0.428756   \n",
       "1                        1.463437                          -0.354308   \n",
       "2                        0.582646                           0.170412   \n",
       "3                       -0.700972                           1.525083   \n",
       "4                        0.742711                           0.302193   \n",
       "...                           ...                                ...   \n",
       "7477                     0.240451                           0.650895   \n",
       "7478                     0.971550                           0.773350   \n",
       "7479                    -0.040648                          -0.428756   \n",
       "7480                    -0.461825                          -1.644616   \n",
       "7481                    -0.040648                          -0.067825   \n",
       "\n",
       "      pt__number_of_open_complaints  pt__number_of_policies  \\\n",
       "0                         -0.502522                1.660057   \n",
       "1                         -0.502522               -0.063268   \n",
       "2                          2.032405                0.875803   \n",
       "3                         -0.502522               -1.143833   \n",
       "4                         -0.502522                1.454127   \n",
       "...                             ...                     ...   \n",
       "7477                       2.032405                0.513168   \n",
       "7478                      -0.502522               -0.063268   \n",
       "7479                      -0.502522               -1.143833   \n",
       "7480                       2.032405               -1.143833   \n",
       "7481                      -0.502522                0.875803   \n",
       "\n",
       "      pt__total_claim_amount  \n",
       "0                  -0.613776  \n",
       "1                   0.426856  \n",
       "2                   0.321145  \n",
       "3                   1.149743  \n",
       "4                   0.228396  \n",
       "...                      ...  \n",
       "7477                1.004652  \n",
       "7478                1.245045  \n",
       "7479               -2.011030  \n",
       "7480                0.132558  \n",
       "7481                0.553307  \n",
       "\n",
       "[7482 rows x 8 columns]"
      ]
     },
     "execution_count": 19,
     "metadata": {},
     "output_type": "execute_result"
    }
   ],
   "source": [
    "X_train_ct"
   ]
  },
  {
   "cell_type": "markdown",
   "id": "05ab6705",
   "metadata": {},
   "source": [
    "### Apply linear regression"
   ]
  },
  {
   "cell_type": "code",
   "execution_count": 20,
   "id": "749de28d",
   "metadata": {},
   "outputs": [
    {
     "name": "stdout",
     "output_type": "stream",
     "text": [
      "                            OLS Regression Results                            \n",
      "==============================================================================\n",
      "Dep. Variable:     total_claim_amount   R-squared:                       0.921\n",
      "Model:                            OLS   Adj. R-squared:                  0.921\n",
      "Method:                 Least Squares   F-statistic:                 1.091e+04\n",
      "Date:                Wed, 01 Feb 2023   Prob (F-statistic):               0.00\n",
      "Time:                        15:52:45   Log-Likelihood:                -43571.\n",
      "No. Observations:                7482   AIC:                         8.716e+04\n",
      "Df Residuals:                    7473   BIC:                         8.722e+04\n",
      "Df Model:                           8                                         \n",
      "Covariance Type:            nonrobust                                         \n",
      "==============================================================================\n",
      "                 coef    std err          t      P>|t|      [0.025      0.975]\n",
      "------------------------------------------------------------------------------\n",
      "const        435.8295      0.947    460.461      0.000     433.974     437.685\n",
      "x1             3.0610      1.275      2.401      0.016       0.562       5.560\n",
      "x2             3.8832      0.960      4.047      0.000       2.002       5.764\n",
      "x3            27.4185      1.252     21.906      0.000      24.965      29.872\n",
      "x4             2.3594      0.948      2.489      0.013       0.502       4.217\n",
      "x5             0.4931      0.948      0.520      0.603      -1.365       2.351\n",
      "x6            -0.0389      0.947     -0.041      0.967      -1.895       1.817\n",
      "x7            -1.4953      1.126     -1.328      0.184      -3.703       0.712\n",
      "x8           264.6477      1.104    239.687      0.000     262.483     266.812\n",
      "==============================================================================\n",
      "Omnibus:                     5817.451   Durbin-Watson:                   1.991\n",
      "Prob(Omnibus):                  0.000   Jarque-Bera (JB):           167263.494\n",
      "Skew:                           3.510   Prob(JB):                         0.00\n",
      "Kurtosis:                      25.074   Cond. No.                         2.47\n",
      "==============================================================================\n",
      "\n",
      "Notes:\n",
      "[1] Standard Errors assume that the covariance matrix of the errors is correctly specified.\n"
     ]
    }
   ],
   "source": [
    "X_train_const_ct = sm.add_constant(X_train_ct.to_numpy()) # adding a constant\n",
    "\n",
    "model = sm.OLS(y_train, X_train_const_ct).fit()\n",
    "predictions_train = model.predict(X_train_const_ct)\n",
    "\n",
    "X_test_const_ct = sm.add_constant(X_test_ct) # adding a constant\n",
    "predictions_test = model.predict(X_test_const_ct)\n",
    "print_model = model.summary()\n",
    "print(print_model)"
   ]
  },
  {
   "cell_type": "markdown",
   "id": "107615af",
   "metadata": {},
   "source": [
    "### Error metrics"
   ]
  },
  {
   "cell_type": "code",
   "execution_count": 29,
   "id": "db83d4e2",
   "metadata": {},
   "outputs": [
    {
     "data": {
      "text/plain": [
       "LinearRegression()"
      ]
     },
     "execution_count": 29,
     "metadata": {},
     "output_type": "execute_result"
    }
   ],
   "source": [
    "model=LinearRegression()    # model\n",
    "model.fit(X_train_ct, y_train)   # model train"
   ]
  },
  {
   "cell_type": "code",
   "execution_count": 30,
   "id": "d2dd04aa",
   "metadata": {},
   "outputs": [
    {
     "data": {
      "text/plain": [
       "array([ 3.06097750e+00,  3.88319978e+00,  2.74184578e+01,  2.35936521e+00,\n",
       "        4.93113303e-01, -3.89369704e-02, -1.49531897e+00,  2.64647674e+02])"
      ]
     },
     "execution_count": 30,
     "metadata": {},
     "output_type": "execute_result"
    }
   ],
   "source": [
    "model.coef_"
   ]
  },
  {
   "cell_type": "code",
   "execution_count": 31,
   "id": "538b487b",
   "metadata": {},
   "outputs": [
    {
     "data": {
      "text/plain": [
       "435.82945736434215"
      ]
     },
     "execution_count": 31,
     "metadata": {},
     "output_type": "execute_result"
    }
   ],
   "source": [
    "model.intercept_"
   ]
  },
  {
   "cell_type": "code",
   "execution_count": 47,
   "id": "a989b625",
   "metadata": {},
   "outputs": [],
   "source": [
    "y_pred = pd.DataFrame(model.predict(X_test_ct),columns = ['target_d'] )      # model prediction\n",
    "y_pred_train =  pd.DataFrame(model.predict(X_train_ct),columns = ['target_d'])"
   ]
  },
  {
   "cell_type": "code",
   "execution_count": 46,
   "id": "5b95e88a",
   "metadata": {},
   "outputs": [],
   "source": [
    "yp_ = y_pred.to_numpy()\n",
    "yt_ = y_test.to_numpy()"
   ]
  },
  {
   "cell_type": "code",
   "execution_count": 35,
   "id": "c244de4c",
   "metadata": {},
   "outputs": [
    {
     "name": "stdout",
     "output_type": "stream",
     "text": [
      "7256.760839650763\n",
      "52.79341136109533\n",
      "6694.862301462733\n"
     ]
    }
   ],
   "source": [
    "print(mse(y_test,y_pred))\n",
    "print(mae(y_test,y_pred))\n",
    "##prediction on the train set\n",
    "print(mse(y_train,y_pred_train))"
   ]
  },
  {
   "cell_type": "code",
   "execution_count": 36,
   "id": "4bf5cec7",
   "metadata": {},
   "outputs": [
    {
     "data": {
      "text/plain": [
       "0.9167862184730139"
      ]
     },
     "execution_count": 36,
     "metadata": {},
     "output_type": "execute_result"
    }
   ],
   "source": [
    "R2=r2_score(y_test,y_pred)\n",
    "R2"
   ]
  },
  {
   "cell_type": "code",
   "execution_count": 37,
   "id": "9c9bd186",
   "metadata": {},
   "outputs": [
    {
     "data": {
      "text/plain": [
       "0.9165780539163485"
      ]
     },
     "execution_count": 37,
     "metadata": {},
     "output_type": "execute_result"
    }
   ],
   "source": [
    "R2_test=model.score(X_test_ct,y_test)\n",
    "R2_train=model.score(X_train_ct,y_train)\n",
    "Adj_R2= 1 - (1-R2)*(len(y_test)-1)/(len(y_test)-X_test.shape[1]-1)\n",
    "Adj_R2"
   ]
  },
  {
   "cell_type": "markdown",
   "id": "21f3e533",
   "metadata": {},
   "source": [
    "### Feature Importances"
   ]
  },
  {
   "cell_type": "code",
   "execution_count": 38,
   "id": "c3d9290d",
   "metadata": {},
   "outputs": [
    {
     "data": {
      "text/html": [
       "<div>\n",
       "<style scoped>\n",
       "    .dataframe tbody tr th:only-of-type {\n",
       "        vertical-align: middle;\n",
       "    }\n",
       "\n",
       "    .dataframe tbody tr th {\n",
       "        vertical-align: top;\n",
       "    }\n",
       "\n",
       "    .dataframe thead th {\n",
       "        text-align: right;\n",
       "    }\n",
       "</style>\n",
       "<table border=\"1\" class=\"dataframe\">\n",
       "  <thead>\n",
       "    <tr style=\"text-align: right;\">\n",
       "      <th></th>\n",
       "      <th>Attribute</th>\n",
       "      <th>Importance</th>\n",
       "    </tr>\n",
       "  </thead>\n",
       "  <tbody>\n",
       "    <tr>\n",
       "      <th>7</th>\n",
       "      <td>total_claim_amount</td>\n",
       "      <td>264.647674</td>\n",
       "    </tr>\n",
       "    <tr>\n",
       "      <th>2</th>\n",
       "      <td>monthly_premium_auto</td>\n",
       "      <td>27.418458</td>\n",
       "    </tr>\n",
       "    <tr>\n",
       "      <th>1</th>\n",
       "      <td>income</td>\n",
       "      <td>3.883200</td>\n",
       "    </tr>\n",
       "    <tr>\n",
       "      <th>0</th>\n",
       "      <td>customer_lifetime_value</td>\n",
       "      <td>3.060978</td>\n",
       "    </tr>\n",
       "    <tr>\n",
       "      <th>3</th>\n",
       "      <td>months_since_last_claim</td>\n",
       "      <td>2.359365</td>\n",
       "    </tr>\n",
       "    <tr>\n",
       "      <th>6</th>\n",
       "      <td>number_of_policies</td>\n",
       "      <td>1.495319</td>\n",
       "    </tr>\n",
       "    <tr>\n",
       "      <th>4</th>\n",
       "      <td>months_since_policy_inception</td>\n",
       "      <td>0.493113</td>\n",
       "    </tr>\n",
       "    <tr>\n",
       "      <th>5</th>\n",
       "      <td>number_of_open_complaints</td>\n",
       "      <td>0.038937</td>\n",
       "    </tr>\n",
       "  </tbody>\n",
       "</table>\n",
       "</div>"
      ],
      "text/plain": [
       "                       Attribute  Importance\n",
       "7             total_claim_amount  264.647674\n",
       "2           monthly_premium_auto   27.418458\n",
       "1                         income    3.883200\n",
       "0        customer_lifetime_value    3.060978\n",
       "3        months_since_last_claim    2.359365\n",
       "6             number_of_policies    1.495319\n",
       "4  months_since_policy_inception    0.493113\n",
       "5      number_of_open_complaints    0.038937"
      ]
     },
     "execution_count": 38,
     "metadata": {},
     "output_type": "execute_result"
    }
   ],
   "source": [
    "features_importances = pd.DataFrame(data={\n",
    "    'Attribute': X_train.columns,\n",
    "    'Importance': abs(model.coef_.reshape(len(X_train.columns),))\n",
    "})\n",
    "features_importances = features_importances.sort_values(by='Importance', ascending=False)\n",
    "features_importances"
   ]
  },
  {
   "cell_type": "code",
   "execution_count": 39,
   "id": "90d81c26",
   "metadata": {},
   "outputs": [
    {
     "data": {
      "image/png": "[encoded data removed]",
      "text/plain": [
       "<Figure size 640x480 with 1 Axes>"
      ]
     },
     "metadata": {},
     "output_type": "display_data"
    }
   ],
   "source": [
    "plt.bar(x=features_importances['Attribute'].iloc[:10], height=features_importances['Importance'].iloc[:10], color='#087E8B')\n",
    "plt.title('Feature importance rankings', size=12)\n",
    "plt.xticks(rotation='vertical')\n",
    "plt.show()"
   ]
  },
  {
   "cell_type": "code",
   "execution_count": null,
   "id": "c943ab2e",
   "metadata": {},
   "outputs": [],
   "source": []
  }
 ],
 "metadata": {
  "kernelspec": {
   "display_name": "Python 3 (ipykernel)",
   "language": "python",
   "name": "python3"
  },
  "language_info": {
   "codemirror_mode": {
    "name": "ipython",
    "version": 3
   },
   "file_extension": ".py",
   "mimetype": "text/x-python",
   "name": "python",
   "nbconvert_exporter": "python",
   "pygments_lexer": "ipython3",
   "version": "3.9.13"
  }
 },
 "nbformat": 4,
 "nbformat_minor": 5
}
