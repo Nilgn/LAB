{
 "cells": [
  {
   "cell_type": "markdown",
   "id": "5d03957b",
   "metadata": {},
   "source": [
    "## Hypothesis Testing"
   ]
  },
  {
   "cell_type": "code",
   "execution_count": 5,
   "id": "9cabe959",
   "metadata": {},
   "outputs": [],
   "source": [
    "import numpy as np\n",
    "import pandas as pd\n",
    "import scipy.stats as stats\n",
    "import matplotlib.pyplot as plt\n",
    "import seaborn as sns\n",
    "\n",
    "%matplotlib inline"
   ]
  },
  {
   "cell_type": "code",
   "execution_count": 22,
   "id": "bb90d172",
   "metadata": {},
   "outputs": [],
   "source": [
    "n = 100"
   ]
  },
  {
   "cell_type": "code",
   "execution_count": 2,
   "id": "1fcc55fa",
   "metadata": {},
   "outputs": [],
   "source": [
    "pop_mean = 120 \n",
    "sample_mean = 130.1\n",
    "sample_std_dev = 21.21 "
   ]
  },
  {
   "cell_type": "code",
   "execution_count": 23,
   "id": "4d4cef53",
   "metadata": {},
   "outputs": [
    {
     "name": "stdout",
     "output_type": "stream",
     "text": [
      "Our z score is: 4.76\n"
     ]
    }
   ],
   "source": [
    "z = ( sample_mean - pop_mean ) / ( sample_std_dev / np.sqrt(n) )\n",
    "print(\"Our z score is: {:.2f}\".format(z))"
   ]
  },
  {
   "cell_type": "code",
   "execution_count": 21,
   "id": "16123a5d",
   "metadata": {},
   "outputs": [
    {
     "data": {
      "text/plain": [
       "1.66"
      ]
     },
     "execution_count": 21,
     "metadata": {},
     "output_type": "execute_result"
    }
   ],
   "source": [
    "zc = stats.t.ppf(0.95, df = 99)\n",
    "round(zc, 2)"
   ]
  },
  {
   "cell_type": "code",
   "execution_count": null,
   "id": "4bd351fc",
   "metadata": {},
   "outputs": [],
   "source": [
    "Our z = 4.76 1.66 = zc -> reject null hypothesis since z is outside the bounderies. \n"
   ]
  }
 ],
 "metadata": {
  "kernelspec": {
   "display_name": "Python 3 (ipykernel)",
   "language": "python",
   "name": "python3"
  },
  "language_info": {
   "codemirror_mode": {
    "name": "ipython",
    "version": 3
   },
   "file_extension": ".py",
   "mimetype": "text/x-python",
   "name": "python",
   "nbconvert_exporter": "python",
   "pygments_lexer": "ipython3",
   "version": "3.9.13"
  }
 },
 "nbformat": 4,
 "nbformat_minor": 5
}
